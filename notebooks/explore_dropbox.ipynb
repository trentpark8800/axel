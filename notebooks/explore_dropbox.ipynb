{
 "cells": [
  {
   "cell_type": "code",
   "execution_count": 1,
   "source": [
    "from configparser import ConfigParser\n",
    "import dropbox"
   ],
   "outputs": [],
   "metadata": {}
  },
  {
   "cell_type": "code",
   "execution_count": 2,
   "source": [
    "config = ConfigParser()\n",
    "config.read(\"../data_load/credentials.ini\")"
   ],
   "outputs": [
    {
     "output_type": "execute_result",
     "data": {
      "text/plain": [
       "['../data_load/credentials.ini']"
      ]
     },
     "metadata": {},
     "execution_count": 2
    }
   ],
   "metadata": {}
  },
  {
   "cell_type": "code",
   "execution_count": 3,
   "source": [
    "dbx = dropbox.Dropbox(config.get(\"DROPBOX\", \"token\"))"
   ],
   "outputs": [],
   "metadata": {}
  },
  {
   "cell_type": "code",
   "execution_count": 4,
   "source": [
    "dbx.users_get_current_account()"
   ],
   "outputs": [
    {
     "output_type": "execute_result",
     "data": {
      "text/plain": [
       "FullAccount(account_id='dbid:AAAcS2BUtSf_V1cne8Vss9krOUFgrMNtLvU', account_type=AccountType('basic', None), country='ZA', disabled=False, email='trentpark8800@gmail.com', email_verified=True, is_paired=False, locale='en', name=Name(abbreviated_name='TP', display_name='Trent Park', familiar_name='Trent', given_name='Trent', surname='Park'), profile_photo_url='https://dl-web.dropbox.com/account_photo/get/dbaphid%3AAADH45ckTWtY2nF7jt3wDnnIY5K6XF37zMw?size=128x128&vers=1473183107206', referral_link='https://www.dropbox.com/referrals/AAA0MgGvFxwgbVcuhI94-A9LqH_hjX12LuU?src=app9-1779057', root_info=UserRootInfo(home_namespace_id='682067381', root_namespace_id='682067381'), team=NOT_SET, team_member_id=NOT_SET)"
      ]
     },
     "metadata": {},
     "execution_count": 4
    }
   ],
   "metadata": {}
  },
  {
   "cell_type": "code",
   "execution_count": 5,
   "source": [
    "for entry in dbx.files_list_folder('').entries:\n",
    "    print(entry.name)"
   ],
   "outputs": [],
   "metadata": {}
  },
  {
   "cell_type": "code",
   "execution_count": 8,
   "source": [
    "dbx.files_upload(\"Foo Bar Baz\".encode('utf-8'), '/test/test.txt')"
   ],
   "outputs": [
    {
     "output_type": "error",
     "ename": "TypeError",
     "evalue": "expected request_binary as binary type, got <class 'bytearray'>",
     "traceback": [
      "\u001b[0;31m---------------------------------------------------------------------------\u001b[0m",
      "\u001b[0;31mTypeError\u001b[0m                                 Traceback (most recent call last)",
      "\u001b[0;32m/tmp/ipykernel_283/226618371.py\u001b[0m in \u001b[0;36m<module>\u001b[0;34m\u001b[0m\n\u001b[0;32m----> 1\u001b[0;31m \u001b[0mdbx\u001b[0m\u001b[0;34m.\u001b[0m\u001b[0mfiles_upload\u001b[0m\u001b[0;34m(\u001b[0m\u001b[0mbytearray\u001b[0m\u001b[0;34m(\u001b[0m\u001b[0;34m\"Foo bar baz\"\u001b[0m\u001b[0;34m,\u001b[0m \u001b[0;34m'utf-8'\u001b[0m\u001b[0;34m)\u001b[0m\u001b[0;34m,\u001b[0m \u001b[0;34m'/test/test.txt'\u001b[0m\u001b[0;34m)\u001b[0m\u001b[0;34m\u001b[0m\u001b[0;34m\u001b[0m\u001b[0m\n\u001b[0m",
      "\u001b[0;32m~/personal_projects/axel/.pyenv/lib/python3.8/site-packages/dropbox/base.py\u001b[0m in \u001b[0;36mfiles_upload\u001b[0;34m(self, f, path, mode, autorename, client_modified, mute, property_groups, strict_conflict)\u001b[0m\n\u001b[1;32m   2859\u001b[0m                                \u001b[0mproperty_groups\u001b[0m\u001b[0;34m,\u001b[0m\u001b[0;34m\u001b[0m\u001b[0;34m\u001b[0m\u001b[0m\n\u001b[1;32m   2860\u001b[0m                                strict_conflict)\n\u001b[0;32m-> 2861\u001b[0;31m         r = self.request(\n\u001b[0m\u001b[1;32m   2862\u001b[0m             \u001b[0mfiles\u001b[0m\u001b[0;34m.\u001b[0m\u001b[0mupload\u001b[0m\u001b[0;34m,\u001b[0m\u001b[0;34m\u001b[0m\u001b[0;34m\u001b[0m\u001b[0m\n\u001b[1;32m   2863\u001b[0m             \u001b[0;34m'files'\u001b[0m\u001b[0;34m,\u001b[0m\u001b[0;34m\u001b[0m\u001b[0;34m\u001b[0m\u001b[0m\n",
      "\u001b[0;32m~/personal_projects/axel/.pyenv/lib/python3.8/site-packages/dropbox/dropbox_client.py\u001b[0m in \u001b[0;36mrequest\u001b[0;34m(self, route, namespace, request_arg, request_binary, timeout)\u001b[0m\n\u001b[1;32m    321\u001b[0m             \u001b[0mtimeout\u001b[0m \u001b[0;34m=\u001b[0m \u001b[0mrequest_arg\u001b[0m\u001b[0;34m.\u001b[0m\u001b[0mtimeout\u001b[0m \u001b[0;34m+\u001b[0m \u001b[0;36m90\u001b[0m\u001b[0;34m\u001b[0m\u001b[0;34m\u001b[0m\u001b[0m\n\u001b[1;32m    322\u001b[0m \u001b[0;34m\u001b[0m\u001b[0m\n\u001b[0;32m--> 323\u001b[0;31m         res = self.request_json_string_with_retry(host,\n\u001b[0m\u001b[1;32m    324\u001b[0m                                                   \u001b[0mroute_name\u001b[0m\u001b[0;34m,\u001b[0m\u001b[0;34m\u001b[0m\u001b[0;34m\u001b[0m\u001b[0m\n\u001b[1;32m    325\u001b[0m                                                   \u001b[0mroute_style\u001b[0m\u001b[0;34m,\u001b[0m\u001b[0;34m\u001b[0m\u001b[0;34m\u001b[0m\u001b[0m\n",
      "\u001b[0;32m~/personal_projects/axel/.pyenv/lib/python3.8/site-packages/dropbox/dropbox_client.py\u001b[0m in \u001b[0;36mrequest_json_string_with_retry\u001b[0;34m(self, host, route_name, route_style, request_json_arg, auth_type, request_binary, timeout)\u001b[0m\n\u001b[1;32m    477\u001b[0m             \u001b[0mself\u001b[0m\u001b[0;34m.\u001b[0m\u001b[0m_logger\u001b[0m\u001b[0;34m.\u001b[0m\u001b[0minfo\u001b[0m\u001b[0;34m(\u001b[0m\u001b[0;34m'Request to %s'\u001b[0m\u001b[0;34m,\u001b[0m \u001b[0mroute_name\u001b[0m\u001b[0;34m)\u001b[0m\u001b[0;34m\u001b[0m\u001b[0;34m\u001b[0m\u001b[0m\n\u001b[1;32m    478\u001b[0m             \u001b[0;32mtry\u001b[0m\u001b[0;34m:\u001b[0m\u001b[0;34m\u001b[0m\u001b[0;34m\u001b[0m\u001b[0m\n\u001b[0;32m--> 479\u001b[0;31m                 return self.request_json_string(host,\n\u001b[0m\u001b[1;32m    480\u001b[0m                                                 \u001b[0mroute_name\u001b[0m\u001b[0;34m,\u001b[0m\u001b[0;34m\u001b[0m\u001b[0;34m\u001b[0m\u001b[0m\n\u001b[1;32m    481\u001b[0m                                                 \u001b[0mroute_style\u001b[0m\u001b[0;34m,\u001b[0m\u001b[0;34m\u001b[0m\u001b[0;34m\u001b[0m\u001b[0m\n",
      "\u001b[0;32m~/personal_projects/axel/.pyenv/lib/python3.8/site-packages/dropbox/dropbox_client.py\u001b[0m in \u001b[0;36mrequest_json_string\u001b[0;34m(self, host, func_name, route_style, request_json_arg, auth_type, request_binary, timeout)\u001b[0m\n\u001b[1;32m    539\u001b[0m             \u001b[0;31m# behavior when a non-rewindable stream is read from, but the\u001b[0m\u001b[0;34m\u001b[0m\u001b[0;34m\u001b[0m\u001b[0;34m\u001b[0m\u001b[0m\n\u001b[1;32m    540\u001b[0m             \u001b[0;31m# request fails and needs to be re-tried at a later time.\u001b[0m\u001b[0;34m\u001b[0m\u001b[0;34m\u001b[0m\u001b[0;34m\u001b[0m\u001b[0m\n\u001b[0;32m--> 541\u001b[0;31m             raise TypeError('expected request_binary as binary type, got %s' %\n\u001b[0m\u001b[1;32m    542\u001b[0m                             type(request_binary))\n\u001b[1;32m    543\u001b[0m \u001b[0;34m\u001b[0m\u001b[0m\n",
      "\u001b[0;31mTypeError\u001b[0m: expected request_binary as binary type, got <class 'bytearray'>"
     ]
    }
   ],
   "metadata": {}
  },
  {
   "cell_type": "code",
   "execution_count": null,
   "source": [],
   "outputs": [],
   "metadata": {}
  }
 ],
 "metadata": {
  "orig_nbformat": 4,
  "language_info": {
   "name": "python",
   "version": "3.8.10",
   "mimetype": "text/x-python",
   "codemirror_mode": {
    "name": "ipython",
    "version": 3
   },
   "pygments_lexer": "ipython3",
   "nbconvert_exporter": "python",
   "file_extension": ".py"
  },
  "kernelspec": {
   "name": "python3",
   "display_name": "Python 3.8.10 64-bit ('.pyenv': venv)"
  },
  "interpreter": {
   "hash": "8b91ccdbaa446c3dc09b1da97f2b5ab6ba4da2d1d710f6e6a21bf5f179509b0c"
  }
 },
 "nbformat": 4,
 "nbformat_minor": 2
}